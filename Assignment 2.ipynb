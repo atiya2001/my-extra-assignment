{
  "metadata": {
    "kernelspec": {
      "name": "python",
      "display_name": "Python (Pyodide)",
      "language": "python"
    },
    "language_info": {
      "codemirror_mode": {
        "name": "ipython",
        "version": 3
      },
      "file_extension": ".py",
      "mimetype": "text/x-python",
      "name": "python",
      "nbconvert_exporter": "python",
      "pygments_lexer": "ipython3",
      "version": "3.8.5"
    }
  },
  "nbformat_minor": 4,
  "nbformat": 4,
  "cells": [
    {
      "cell_type": "markdown",
      "source": "# Assignment 2\nLet's test your knowledge!",
      "metadata": {}
    },
    {
      "cell_type": "markdown",
      "source": "_____\n**Use <code>for</code>, .split(), and <code>if</code> to create a Statement that will print out words that start with 's':**",
      "metadata": {}
    },
    {
      "cell_type": "code",
      "source": "st = 'Print only the words that start with s in this sentence'",
      "metadata": {},
      "execution_count": null,
      "outputs": []
    },
    {
      "cell_type": "code",
      "source": "#Code here\nst = st.split()\nlist_of_s = [i for i in st if \"s\" in i]\nprint(list_of_s)",
      "metadata": {},
      "execution_count": null,
      "outputs": []
    },
    {
      "cell_type": "markdown",
      "source": "______\n**Use range() to print all the even numbers from 0 to 10.**",
      "metadata": {}
    },
    {
      "cell_type": "code",
      "source": "for i in range(0,11,2):\n    print(i)\n",
      "metadata": {},
      "execution_count": null,
      "outputs": []
    },
    {
      "cell_type": "markdown",
      "source": "___\n**Use a List Comprehension to create a list of all numbers between 1 and 50 that are divisible by 3.**",
      "metadata": {}
    },
    {
      "cell_type": "code",
      "source": "#Code Here\ndevided_by_3=[i for i in range(1,51) if i %3==0]",
      "metadata": {},
      "execution_count": null,
      "outputs": []
    },
    {
      "cell_type": "markdown",
      "source": "_____\n**Go through the string below and if the length of a word is even print \"even!\"**",
      "metadata": {}
    },
    {
      "cell_type": "code",
      "source": "st = 'Print every word in this sentence that has an even number of letters'",
      "metadata": {},
      "execution_count": null,
      "outputs": []
    },
    {
      "cell_type": "code",
      "source": "#Code in this cell\nz=st.split()\nfor i in z:\n    if len(i) % 2 == 0:\n        print(i)",
      "metadata": {},
      "execution_count": null,
      "outputs": []
    },
    {
      "cell_type": "markdown",
      "source": "____\n**Write a program that prints the integers from 1 to 100. But for multiples of three print \"Fizz\" instead of the number, and for the multiples of five print \"Buzz\". For numbers which are multiples of both three and five print \"FizzBuzz\".**",
      "metadata": {}
    },
    {
      "cell_type": "code",
      "source": "#Code in this cell\nfor i in range(101):\n    if i % 3 == 0 and i % 5 == 0:\n        print(\"fizzbuzz\")\n    elif i % 3 == 0:\n        print(\"fizz\")\n    elif i % 5 == 0:\n        print(\"buzz\")\n    else:\n        print(i)\n",
      "metadata": {},
      "execution_count": null,
      "outputs": []
    },
    {
      "cell_type": "markdown",
      "source": "____\n**Use List Comprehension to create a list of the first letters of every word in the string below:**",
      "metadata": {}
    },
    {
      "cell_type": "code",
      "source": "st = 'Create a list of the first letters of every word in this string'",
      "metadata": {},
      "execution_count": null,
      "outputs": []
    },
    {
      "cell_type": "code",
      "source": "#Code in this cell\nst = 'Create a list of the first letters of every word in this string'\nlist_of_letters, counter = [], 0\nfor i in st:\n    if i == \" \":\n        list_of_letters.append(st[count + 1])\n    counter += 1\nprint(list_of_letters)\n",
      "metadata": {},
      "execution_count": null,
      "outputs": []
    },
    {
      "cell_type": "markdown",
      "source": "### Great Job!",
      "metadata": {}
    }
  ]
}