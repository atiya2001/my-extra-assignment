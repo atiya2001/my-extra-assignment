{
  "metadata": {
    "anaconda-cloud": {},
    "kernelspec": {
      "name": "python",
      "display_name": "Python (Pyodide)",
      "language": "python"
    },
    "language_info": {
      "codemirror_mode": {
        "name": "ipython",
        "version": 3
      },
      "file_extension": ".py",
      "mimetype": "text/x-python",
      "name": "python",
      "nbconvert_exporter": "python",
      "pygments_lexer": "ipython3",
      "version": "3.8.5"
    }
  },
  "nbformat_minor": 4,
  "nbformat": 4,
  "cells": [
    {
      "cell_type": "markdown",
      "source": "# Assignment 1",
      "metadata": {}
    },
    {
      "cell_type": "markdown",
      "source": "## Test your knowledge. \n\n** Answer the following questions **",
      "metadata": {}
    },
    {
      "cell_type": "markdown",
      "source": "## Strings",
      "metadata": {}
    },
    {
      "cell_type": "markdown",
      "source": "Given the string 'hello' give an index command that returns 'e'. Enter your code in the cell below:",
      "metadata": {}
    },
    {
      "cell_type": "code",
      "source": "s = 'hello'\n# Print out 'e' using indexing\nx=s.index(\"e\")\nprint(s[x])\n",
      "metadata": {},
      "execution_count": 1,
      "outputs": []
    },
    {
      "cell_type": "markdown",
      "source": "Reverse the string 'hello' using slicing:",
      "metadata": {}
    },
    {
      "cell_type": "code",
      "source": "s ='hello'\n# Reverse the string using slicing\ny=s[::-1]\npriny(y)",
      "metadata": {},
      "execution_count": 2,
      "outputs": []
    },
    {
      "cell_type": "markdown",
      "source": "Given the string hello, give two methods of producing the letter 'o' using indexing.",
      "metadata": {}
    },
    {
      "cell_type": "code",
      "source": "s ='hello'\n# Print out the 'o'\n\n# Method 1:\n\nx=s.index(\"o\")\nprint(s[x])",
      "metadata": {},
      "execution_count": 3,
      "outputs": []
    },
    {
      "cell_type": "code",
      "source": "# Method 2:\nif \"o\" in s:\n    priny(\"o\")",
      "metadata": {},
      "execution_count": 4,
      "outputs": []
    },
    {
      "cell_type": "markdown",
      "source": "## Lists",
      "metadata": {}
    },
    {
      "cell_type": "markdown",
      "source": "Build this list [0,0,0] two separate ways.",
      "metadata": {}
    },
    {
      "cell_type": "code",
      "source": "# Method 1:\ns=[0,0,0]",
      "metadata": {},
      "execution_count": 5,
      "outputs": []
    },
    {
      "cell_type": "code",
      "source": "# Method 2:\ns=[0]\ns=s*3",
      "metadata": {},
      "execution_count": 6,
      "outputs": []
    },
    {
      "cell_type": "markdown",
      "source": "Reassign 'hello' in this nested list to say 'goodbye' instead:",
      "metadata": {}
    },
    {
      "cell_type": "code",
      "source": "list3 = [1,2,[3,4,'hello']]\n\nlist3[2][2]=\"hello\"",
      "metadata": {},
      "execution_count": 7,
      "outputs": []
    },
    {
      "cell_type": "markdown",
      "source": "Sort the list below:",
      "metadata": {}
    },
    {
      "cell_type": "code",
      "source": "list4 = [5,3,4,6,1]\nlist4.sort()",
      "metadata": {},
      "execution_count": 8,
      "outputs": []
    },
    {
      "cell_type": "markdown",
      "source": "## Dictionaries",
      "metadata": {}
    },
    {
      "cell_type": "markdown",
      "source": "Using keys and indexing, grab the 'hello' from the following dictionaries:",
      "metadata": {}
    },
    {
      "cell_type": "code",
      "source": "d = {'simple_key':'hello'}\n# Grab 'hello'\nprint(d.get(\"simple_key\"))",
      "metadata": {},
      "execution_count": 9,
      "outputs": []
    },
    {
      "cell_type": "code",
      "source": "d = {'k1':{'k2':'hello'}}\n# Grab 'hello'\nprint(d['k1']['k2'])",
      "metadata": {},
      "execution_count": 10,
      "outputs": []
    },
    {
      "cell_type": "code",
      "source": "d = {'k1':[{'nest_key':['this is deep',['hello']]}]}\n\n#Grab hello\nprint(d['k1'][0]['nest_key'][1][0])\n",
      "metadata": {},
      "execution_count": 11,
      "outputs": []
    },
    {
      "cell_type": "code",
      "source": "d = {'k1':[1,2,{'k2':['this is tricky',{'tough':[1,2,['hello']]}]}]}\n#Grab hello\nprint(d['k1'][2]['k2'][1]['tough'][2][0])",
      "metadata": {},
      "execution_count": 12,
      "outputs": []
    },
    {
      "cell_type": "code",
      "source": "",
      "metadata": {},
      "execution_count": null,
      "outputs": []
    },
    {
      "cell_type": "code",
      "source": "",
      "metadata": {},
      "execution_count": null,
      "outputs": []
    },
    {
      "cell_type": "markdown",
      "source": "** Given the variables:**\n\n    planet = \"Earth\"\n    diameter = 12742\n\n** Use .format() to print the following string: **\n\n    The diameter of Earth is 12742 kilometers.",
      "metadata": {}
    },
    {
      "cell_type": "code",
      "source": "print(\"the diameter of {} is {} kilometers.\".format(planet,diameter))\n",
      "metadata": {},
      "execution_count": 18,
      "outputs": [
        {
          "name": "stdout",
          "output_type": "stream",
          "text": "The diameter of Earth is 12742 kilometers.\n"
        }
      ]
    },
    {
      "cell_type": "markdown",
      "source": "** Given this nested list, use indexing to grab the word \"hello\" **",
      "metadata": {}
    },
    {
      "cell_type": "code",
      "source": "lst = [1,2,[3,4],[5,[100,200,['hello']],23,11],1,7]",
      "metadata": {},
      "execution_count": 1,
      "outputs": []
    },
    {
      "cell_type": "code",
      "source": "print(lst[3][1][2][0])",
      "metadata": {},
      "execution_count": null,
      "outputs": []
    },
    {
      "cell_type": "markdown",
      "source": "** Given this nested dictionary grab the word \"hello\". **",
      "metadata": {}
    },
    {
      "cell_type": "code",
      "source": "d = {'k1':[1,2,3,{'tricky':['oh','man','inception',{'target':[1,2,3,'hello']}]}]}",
      "metadata": {
        "collapsed": true,
        "jupyter": {
          "outputs_hidden": true
        }
      },
      "execution_count": 21,
      "outputs": []
    },
    {
      "cell_type": "code",
      "source": "print(d[\"k1\"][3][\"tricky\"][3][\"target\"][3])",
      "metadata": {},
      "execution_count": null,
      "outputs": []
    },
    {
      "cell_type": "markdown",
      "source": " Write a Python program to swap two variables.\n",
      "metadata": {
        "tags": []
      }
    },
    {
      "cell_type": "code",
      "source": "swapp=first\nfirst=second\nsecond=swapp",
      "metadata": {},
      "execution_count": null,
      "outputs": []
    },
    {
      "cell_type": "markdown",
      "source": "## Thanks",
      "metadata": {}
    }
  ]
}